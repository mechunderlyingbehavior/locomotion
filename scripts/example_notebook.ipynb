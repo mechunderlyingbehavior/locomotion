{
 "cells": [
  {
   "cell_type": "markdown",
   "metadata": {},
   "source": [
    "# Example Notebook and Installation Check\n",
    "This notebook provides an example of how to run an experiment with the `locomotion` package. It also acts as a check to make sure your package has been installed correctly.\n",
    "\n",
    "---\n",
    "\n",
    "## Import Check\n",
    "First, we make sure that we are able to import the locomotion package."
   ]
  },
  {
   "cell_type": "code",
   "execution_count": null,
   "metadata": {},
   "outputs": [],
   "source": [
    "import sys\n",
    "import os\n",
    "PATH_TO_DIRECTORY = os.getcwd()\n",
    "\n",
    "# If this works, then locomotion has been installed into your system.\n",
    "import locomotion"
   ]
  },
  {
   "cell_type": "markdown",
   "metadata": {},
   "source": [
    "## Data Setup\n",
    "Next, we setup the data for our experiment, which involves writing `.json` files that captures the experimental data for each dataset. This can be done manually, as we've done below, or by using `scripts/json_generator.ipynb`. \n",
    "\n",
    "Note that 1 `.json` file needs to be generated for each experimental group, with a JSON item for each dataset in the group. In our example, we have 2 experimental groups with 2 datasets each, thus we create 2 `.json` files, each containing 2 JSON items."
   ]
  },
  {
   "cell_type": "code",
   "execution_count": null,
   "metadata": {},
   "outputs": [],
   "source": [
    "# No need to touch this\n",
    "species = \"medaka\"\n",
    "exp_type = \"SS\"\n",
    "x_lims = (0, 200)\n",
    "y_lims = (0, 100)\n",
    "frames_per_sec = 20\n",
    "pixels_per_mm = 1.6\n",
    "start_time = 0\n",
    "end_time = 2\n",
    "baseline_start_time = 0\n",
    "baseline_end_time = 1\n",
    "\n",
    "import json\n",
    "json_items_ss = [{\n",
    "    \"name\": \"SS_01\",\n",
    "    \"data_file_location\": PATH_TO_DIRECTORY + \"/../samples/sample_data/SS_01.dat\",\n",
    "    \"animal_attributes\":\n",
    "    {\n",
    "      \"species\": species,\n",
    "      \"exp_type\": exp_type,\n",
    "      \"ID\": \"01\"\n",
    "    },\n",
    "    \"capture_attributes\": \n",
    "    {\n",
    "      \"x_lims\": x_lims,\n",
    "      \"y_lims\": y_lims,\n",
    "      \"pixels_per_mm\": pixels_per_mm,\n",
    "      \"frames_per_sec\": frames_per_sec,\n",
    "      \"start_time\": start_time,\n",
    "      \"end_time\": end_time,\n",
    "      \"baseline_start_time\": baseline_start_time,\n",
    "      \"baseline_end_time\": baseline_end_time\n",
    "    },\n",
    "    \"additional_info\": \n",
    "    {\n",
    "      \"point\": [100, 100]\n",
    "    }\n",
    "  },\n",
    "{\n",
    "    \"name\": \"SS_02\",\n",
    "    \"data_file_location\": PATH_TO_DIRECTORY + \"/../samples/sample_data/SS_02.dat\",\n",
    "    \"animal_attributes\":\n",
    "    {\n",
    "      \"species\": species,\n",
    "      \"exp_type\": exp_type,\n",
    "      \"ID\": \"02\"\n",
    "    },\n",
    "    \"capture_attributes\": \n",
    "    {\n",
    "      \"x_lims\": x_lims,\n",
    "      \"y_lims\": y_lims,\n",
    "      \"pixels_per_mm\": pixels_per_mm,\n",
    "      \"frames_per_sec\": frames_per_sec,\n",
    "      \"start_time\": start_time,\n",
    "      \"end_time\": end_time,\n",
    "      \"baseline_start_time\": baseline_start_time,\n",
    "      \"baseline_end_time\": baseline_end_time\n",
    "    },\n",
    "    \"additional_info\": \n",
    "    {\n",
    "      \"point\": [50, 50]\n",
    "    }\n",
    "  }]\n",
    "json_items_nss = [{\n",
    "    \"name\": \"NSS_01\",\n",
    "    \"data_file_location\": PATH_TO_DIRECTORY + \"/../samples/sample_data/NSS_01.dat\",\n",
    "    \"animal_attributes\":\n",
    "    {\n",
    "      \"species\": species,\n",
    "      \"exp_type\": exp_type,\n",
    "      \"ID\": \"01\"\n",
    "    },\n",
    "    \"capture_attributes\": \n",
    "    {\n",
    "      \"x_lims\": x_lims,\n",
    "      \"y_lims\": y_lims,\n",
    "      \"pixels_per_mm\": pixels_per_mm,\n",
    "      \"frames_per_sec\": frames_per_sec,\n",
    "      \"start_time\": start_time,\n",
    "      \"end_time\": end_time,\n",
    "      \"baseline_start_time\": baseline_start_time,\n",
    "      \"baseline_end_time\": baseline_end_time\n",
    "    },\n",
    "    \"additional_info\": \n",
    "    {\n",
    "      \"point\": [30, 30]\n",
    "    }\n",
    "  },\n",
    "{\n",
    "    \"name\": \"NSS_02\",\n",
    "    \"data_file_location\": PATH_TO_DIRECTORY + \"/../samples/sample_data/NSS_02.dat\",\n",
    "    \"animal_attributes\":\n",
    "    {\n",
    "      \"species\": species,\n",
    "      \"exp_type\": exp_type,\n",
    "      \"ID\": \"02\"\n",
    "    },\n",
    "    \"capture_attributes\": \n",
    "    {\n",
    "      \"x_lims\": x_lims,\n",
    "      \"y_lims\": y_lims,\n",
    "      \"pixels_per_mm\": pixels_per_mm,\n",
    "      \"frames_per_sec\": frames_per_sec,\n",
    "      \"start_time\": start_time,\n",
    "      \"end_time\": end_time,\n",
    "      \"baseline_start_time\": baseline_start_time,\n",
    "      \"baseline_end_time\": baseline_end_time\n",
    "    },\n",
    "    \"additional_info\": \n",
    "    {\n",
    "      \"point\": [10, 10]\n",
    "    }\n",
    "  }]\n",
    "\n",
    "outfile_ss = PATH_TO_DIRECTORY + \"/../samples/sample_check_SS.json\"\n",
    "outfile_nss = PATH_TO_DIRECTORY + \"/../samples/sample_check_NSS.json\"\n",
    "jsonstr_ss = json.dumps(json_items_ss, indent=4)\n",
    "jsonstr_nss = json.dumps(json_items_nss, indent=4)\n",
    "with open(outfile_ss, \"w\") as outfile:\n",
    "    outfile.write(jsonstr_ss)\n",
    "    print(\"SS information wrote to %s\" % outfile_ss)\n",
    "with open(outfile_nss, \"w\") as outfile:\n",
    "    outfile.write(jsonstr_nss)\n",
    "    print(\"NSS information wrote to %s\" % outfile_nss)"
   ]
  },
  {
   "cell_type": "markdown",
   "metadata": {},
   "source": [
    "## Trajectory Methods\n",
    "This section will run through the 2 main methods provided in `trajectory.py`:\n",
    "* `trajectory.compute_all_bdd()` computes the pair-wise Behavioral Distortion Distance (BDD) between all animals in the experiment,\n",
    "* `trajectory.compute_all_iibdd()` computes the Intra-Individual BDD of each animal in the experiment, by computing the BDD of an animal to itself over a pair of non-overlapping time intervals of equal length."
   ]
  },
  {
   "cell_type": "code",
   "execution_count": null,
   "metadata": {},
   "outputs": [],
   "source": [
    "info_files = [outfile_ss, outfile_nss]\n",
    "animals = locomotion.setup_animal_objs( info_files )\n",
    "for a in animals:\n",
    "    first_deriv, velocity = locomotion.trajectory.populate_velocity( a )\n",
    "    locomotion.trajectory.populate_curvature(a, first_deriv=first_deriv, velocity=velocity)\n",
    "    locomotion.trajectory.populate_distance_from_point(a, \"point\", 'Dist to Point', col_names=['X', 'Y'])\n",
    "    "
   ]
  },
  {
   "cell_type": "code",
   "execution_count": null,
   "metadata": {},
   "outputs": [],
   "source": [
    "# Testing BDD methods\n",
    "variables = ['Velocity','Curvature', 'Dist to Point']\n",
    "norm_mode = 'spec'\n",
    "number_of_comparisons_per_animal, specified_durations = 100, None\n",
    "start_time, end_time = 0, 1\n",
    "distances = locomotion.trajectory.compute_all_bdd(animals,\n",
    "                                                variables,\n",
    "                                                start_time,\n",
    "                                                end_time,\n",
    "                                                norm_mode)\n"
   ]
  },
  {
   "cell_type": "code",
   "execution_count": null,
   "metadata": {},
   "outputs": [],
   "source": [
    "output_directory, outfile_name = PATH_TO_DIRECTORY + \"/results\", \"check_BDD\"\n",
    "try: # Safety check to ensure that data folder exists, and makes it otherwise.\n",
    "    os.mkdir(output_directory)\n",
    "except FileExistsError:\n",
    "    pass\n",
    "sort_table, square_table = False, False\n",
    "color_min, color_max = 0.1, 0.2\n",
    "locomotion.write.post_process(animals,\n",
    "                             distances,\n",
    "                             output_directory,\n",
    "                             outfile_name,\n",
    "                             sort_table,\n",
    "                             square_table,\n",
    "                             color_min,\n",
    "                             color_max)"
   ]
  },
  {
   "cell_type": "code",
   "execution_count": null,
   "metadata": {},
   "outputs": [],
   "source": [
    "print(distances)\n",
    "# Print result should be similar to the following:\n",
    "# [['', 0.13316423888910794, 0.1479803274285245, 0.1514418903180464], \n",
    "# ['', '', 0.15586433304624217, 0.13717273747247993], \n",
    "# ['', '', '', 0.1608370955689277], \n",
    "# ['', '', '', '']]"
   ]
  },
  {
   "cell_type": "code",
   "execution_count": null,
   "metadata": {},
   "outputs": [],
   "source": [
    "# Testing IIBDD Methods\n",
    "variables = ['Y','Velocity','Curvature']\n",
    "norm_mode = 'spec'\n",
    "num_samples = 5\n",
    "iibdds = locomotion.trajectory.compute_all_iibdd(animals, variables, norm_mode, num_samples)"
   ]
  },
  {
   "cell_type": "code",
   "execution_count": null,
   "metadata": {},
   "outputs": [],
   "source": [
    "output_directory, outfile_name = PATH_TO_DIRECTORY + \"/results\", \"check_IIBDD.csv\"\n",
    "try: # Safety check to ensure that data folder exists, and makes it otherwise.\n",
    "    os.mkdir(output_directory)\n",
    "except FileExistsError:\n",
    "    pass\n",
    "locomotion.write.write_iibdd_to_csv(animals, iibdds, output_directory, outfile_name)"
   ]
  },
  {
   "cell_type": "markdown",
   "metadata": {},
   "source": [
    "## Heatmap Methods\n",
    "This section will run through the main method provided in `heatmap.py`, namely `heatmap.compute_all_csd()`, which calculates the pairwise Conformal Spatiotemporal Distance (CSD) between all animals in the experiment. "
   ]
  },
  {
   "cell_type": "code",
   "execution_count": null,
   "metadata": {},
   "outputs": [],
   "source": [
    "grid_size, start_time, end_time = 10, 0, 2\n",
    "for a in animals:\n",
    "    locomotion.heatmap.populate_surface_data(a, grid_size, start_time, end_time)"
   ]
  },
  {
   "cell_type": "code",
   "execution_count": null,
   "metadata": {},
   "outputs": [],
   "source": [
    "distances = locomotion.heatmap.compute_all_csd(animals)"
   ]
  },
  {
   "cell_type": "code",
   "execution_count": null,
   "metadata": {},
   "outputs": [],
   "source": [
    "output_directory, outfile_name = PATH_TO_DIRECTORY + \"/results\", \"results\"\n",
    "sort_table, square_table = False, False\n",
    "color_min, color_max = 0, 0.02\n",
    "locomotion.write.post_process(animals,\n",
    "                             distances,\n",
    "                             output_directory,\n",
    "                             outfile_name,\n",
    "                             sort_table,\n",
    "                             square_table,\n",
    "                             color_min,\n",
    "                             color_max)"
   ]
  },
  {
   "cell_type": "markdown",
   "metadata": {},
   "source": [
    "# Once you are done, please remember to clear all outputs with 'Cell > All Output > Clear'."
   ]
  }
 ],
 "metadata": {
  "kernelspec": {
   "display_name": "Python 3",
   "language": "python",
   "name": "python3"
  },
  "language_info": {
   "codemirror_mode": {
    "name": "ipython",
    "version": 3
   },
   "file_extension": ".py",
   "mimetype": "text/x-python",
   "name": "python",
   "nbconvert_exporter": "python",
   "pygments_lexer": "ipython3",
   "version": "3.7.4"
  }
 },
 "nbformat": 4,
 "nbformat_minor": 2
}
