{
 "cells": [
  {
   "cell_type": "markdown",
   "metadata": {},
   "source": [
    "# Example Notebook and Installation Check\n",
    "This notebook provides an example of how to run an experiment with the `locomotion` package. It also acts as a check to make sure your package has been installed correctly.\n",
    "\n",
    "---\n",
    "\n",
    "## Import Check\n",
    "First, we make sure that we are able to import the locomotion package."
   ]
  },
  {
   "cell_type": "code",
   "execution_count": null,
   "metadata": {},
   "outputs": [],
   "source": [
    "import sys\n",
    "import os\n",
    "import numpy as np\n",
    "PATH_TO_DIRECTORY = os.getcwd()\n",
    "\n",
    "# If this works, then locomotion has been installed into your system.\n",
    "import locomotion"
   ]
  },
  {
   "cell_type": "markdown",
   "metadata": {},
   "source": [
    "## Data Setup\n",
    "Next, we setup the data for our experiment, which involves writing `.json` files that captures the experimental data for each dataset. This can be done manually, as we've done below, or by using `scripts/json_generator.ipynb`. \n",
    "\n",
    "Note that 1 `.json` file needs to be generated for each experimental group, with a JSON item for each dataset in the group. In our example, we have 2 experimental groups with 2 datasets each, thus we create 2 `.json` files, each containing 2 JSON items."
   ]
  },
  {
   "cell_type": "code",
   "execution_count": null,
   "metadata": {},
   "outputs": [],
   "source": [
    "# No need to touch this\n",
    "species = \"medaka\"\n",
    "exp_type = \"SS\"\n",
    "x_lims = (0, 300)\n",
    "y_lims = (0, 200)\n",
    "frames_per_sec = 20\n",
    "unit_conversion = 1.6\n",
    "start_time = 0\n",
    "end_time = 120\n",
    "baseline_start_time = 0\n",
    "baseline_end_time = 60\n",
    "\n",
    "import json\n",
    "json_items_ss = [{\n",
    "    \"name\": \"SS_01\",\n",
    "    \"data_file_location\": PATH_TO_DIRECTORY + \"/../samples/sample_data/SS_01.dat\",\n",
    "    \"animal_attributes\":\n",
    "    {\n",
    "      \"species\": species,\n",
    "      \"exp_type\": exp_type,\n",
    "      \"ID\": \"01\"\n",
    "    },\n",
    "    \"capture_attributes\": \n",
    "    {\n",
    "      \"x_lims\": x_lims,\n",
    "      \"y_lims\": y_lims,\n",
    "      \"input_unit\" : \"px\",\n",
    "      \"output_unit\" : \"mm\",\n",
    "      \"input_per_output_unit\": unit_conversion,\n",
    "      \"frames_per_sec\": frames_per_sec,\n",
    "      \"start_time\": start_time,\n",
    "      \"end_time\": end_time,\n",
    "      \"baseline_start_time\": baseline_start_time,\n",
    "      \"baseline_end_time\": baseline_end_time\n",
    "    },\n",
    "    \"additional_info\": \n",
    "    {\n",
    "      \"point\": [100, 100]\n",
    "    }\n",
    "  },\n",
    "{\n",
    "    \"name\": \"SS_02\",\n",
    "    \"data_file_location\": PATH_TO_DIRECTORY + \"/../samples/sample_data/SS_02.dat\",\n",
    "    \"animal_attributes\":\n",
    "    {\n",
    "      \"species\": species,\n",
    "      \"exp_type\": exp_type,\n",
    "      \"ID\": \"02\"\n",
    "    },\n",
    "    \"capture_attributes\": \n",
    "    {\n",
    "      \"x_lims\": x_lims,\n",
    "      \"y_lims\": y_lims,\n",
    "      \"input_unit\" : \"px\",\n",
    "      \"output_unit\" : \"mm\",\n",
    "      \"input_per_output_unit\": unit_conversion,\n",
    "      \"frames_per_sec\": frames_per_sec,\n",
    "      \"start_time\": start_time,\n",
    "      \"end_time\": end_time,\n",
    "      \"baseline_start_time\": baseline_start_time,\n",
    "      \"baseline_end_time\": baseline_end_time\n",
    "    },\n",
    "    \"additional_info\": \n",
    "    {\n",
    "      \"point\": [50, 50]\n",
    "    }\n",
    "  }]\n",
    "json_items_nss = [{\n",
    "    \"name\": \"NSS_01\",\n",
    "    \"data_file_location\": PATH_TO_DIRECTORY + \"/../samples/sample_data/NSS_01.dat\",\n",
    "    \"animal_attributes\":\n",
    "    {\n",
    "      \"species\": species,\n",
    "      \"exp_type\": exp_type,\n",
    "      \"ID\": \"01\"\n",
    "    },\n",
    "    \"capture_attributes\": \n",
    "    {\n",
    "      \"x_lims\": x_lims,\n",
    "      \"y_lims\": y_lims,\n",
    "      \"input_unit\" : \"px\",\n",
    "      \"output_unit\" : \"mm\",\n",
    "      \"input_per_output_unit\": unit_conversion,\n",
    "      \"frames_per_sec\": frames_per_sec,\n",
    "      \"start_time\": start_time,\n",
    "      \"end_time\": end_time,\n",
    "      \"baseline_start_time\": baseline_start_time,\n",
    "      \"baseline_end_time\": baseline_end_time\n",
    "    },\n",
    "    \"additional_info\": \n",
    "    {\n",
    "      \"point\": [30, 30]\n",
    "    }\n",
    "  },\n",
    "{\n",
    "    \"name\": \"NSS_02\",\n",
    "    \"data_file_location\": PATH_TO_DIRECTORY + \"/../samples/sample_data/NSS_02.dat\",\n",
    "    \"animal_attributes\":\n",
    "    {\n",
    "      \"species\": species,\n",
    "      \"exp_type\": exp_type,\n",
    "      \"ID\": \"02\"\n",
    "    },\n",
    "    \"capture_attributes\": \n",
    "    {\n",
    "      \"x_lims\": x_lims,\n",
    "      \"y_lims\": y_lims,\n",
    "      \"input_unit\" : \"px\",\n",
    "      \"output_unit\" : \"mm\",\n",
    "      \"input_per_output_unit\": unit_conversion,\n",
    "      \"frames_per_sec\": frames_per_sec,\n",
    "      \"start_time\": start_time,\n",
    "      \"end_time\": end_time,\n",
    "      \"baseline_start_time\": baseline_start_time,\n",
    "      \"baseline_end_time\": baseline_end_time\n",
    "    },\n",
    "    \"additional_info\": \n",
    "    {\n",
    "      \"point\": [10, 10]\n",
    "    }\n",
    "  }]\n",
    "\n",
    "outfile_ss = PATH_TO_DIRECTORY + \"/../samples/sample_check_SS.json\"\n",
    "outfile_nss = PATH_TO_DIRECTORY + \"/../samples/sample_check_NSS.json\"\n",
    "jsonstr_ss = json.dumps(json_items_ss, indent=4)\n",
    "jsonstr_nss = json.dumps(json_items_nss, indent=4)\n",
    "with open(outfile_ss, \"w\") as outfile:\n",
    "    outfile.write(jsonstr_ss)\n",
    "    print(\"SS information wrote to %s\" % outfile_ss)\n",
    "with open(outfile_nss, \"w\") as outfile:\n",
    "    outfile.write(jsonstr_nss)\n",
    "    print(\"NSS information wrote to %s\" % outfile_nss)"
   ]
  },
  {
   "cell_type": "markdown",
   "metadata": {},
   "source": [
    "## Setup Animal Objects\n",
    "This section will create the animal objects using the provided `.json` files, and will begin smoothening the curved data needed to run the methods in `trajectory.py`. \n",
    "\n",
    "Additionally, this section will show how to check the smoothened paths to ensure that smoothening parameters produces the intended results."
   ]
  },
  {
   "cell_type": "code",
   "execution_count": null,
   "metadata": {},
   "outputs": [],
   "source": [
    "info_files = [outfile_ss, outfile_nss]\n",
    "animals = locomotion.setup_animal_objs( info_files )\n",
    "for a in animals:\n",
    "    # Smoothen curve data and add to animal object\n",
    "    mse = locomotion.trajectory.populate_curve_data(\n",
    "        a, \n",
    "        smooth_order=3, \n",
    "        smooth_window=25, \n",
    "        smooth_method='savgol'\n",
    "    )\n",
    "    print(f\"MSE of smoothening for {a.get_name()} is {mse}.\")\n",
    "    \n",
    "    #Plot smoothened path to check result\n",
    "    locomotion.write.plot_path(a, 'results/')\n",
    "    locomotion.write.plot_path(a, 'results/', 'smoothed_path', 'smooth_X', 'smooth_Y')\n",
    "    "
   ]
  },
  {
   "cell_type": "markdown",
   "metadata": {},
   "source": [
    "## Prepare Animal Objects for BDD Calculations\n",
    "\n",
    "This section demonstrates the methods used to populate variables in the animal objects, as well as how to define normalization methods for these variables."
   ]
  },
  {
   "cell_type": "code",
   "execution_count": null,
   "metadata": {},
   "outputs": [],
   "source": [
    "# Populate other variables needed for calculation\n",
    "for a in animals:\n",
    "    first_deriv, velocity = locomotion.trajectory.populate_velocity( a )\n",
    "    locomotion.trajectory.populate_curvature(a, first_deriv=first_deriv, velocity=velocity)\n",
    "    locomotion.trajectory.populate_distance_from_point(a, \"point\", 'Dist to Point', col_names=['smooth_X', 'smooth_Y'])"
   ]
  },
  {
   "cell_type": "code",
   "execution_count": null,
   "metadata": {},
   "outputs": [],
   "source": [
    "# Define standard normalization method using the mean and standard \n",
    "# deviation of variables across all animal objects\n",
    "raw_vals = {'Velocity':[], 'Curvature':[]}\n",
    "\n",
    "# Extract all values from all animals\n",
    "for a in animals:\n",
    "    for var in ['Velocity', 'Curvature']:\n",
    "        raw_vals[var].extend(a.get_vals(var))\n",
    "\n",
    "# Calculate mean and std and use it to define new normalization method\n",
    "for var in ['Velocity', 'Curvature']:\n",
    "    mean = np.mean(raw_vals[var])\n",
    "    std = np.std(raw_vals[var])\n",
    "    for a in animals:\n",
    "        a.add_norm_standard(var, 'universal', mean, std)"
   ]
  },
  {
   "cell_type": "code",
   "execution_count": null,
   "metadata": {},
   "outputs": [],
   "source": [
    "# Define bounded normalization method using predefined lower and \n",
    "# upper bounds for Dist to Point\n",
    "lower_bound = 0\n",
    "upper_bound = 100\n",
    "for a in animals:\n",
    "    a.add_norm_bounded('Dist to Point', 'bounded', lower_bound, upper_bound)"
   ]
  },
  {
   "cell_type": "markdown",
   "metadata": {},
   "source": [
    "## Trajectory Methods\n",
    "This section will run through the 2 main methods provided in `trajectory.py`:\n",
    "* `trajectory.compute_all_bdd()` computes the pair-wise Behavioral Distortion Distance (BDD) between all animals in the experiment,\n",
    "* `trajectory.compute_all_iibdd()` computes the Intra-Individual BDD of each animal in the experiment, by computing the BDD of an animal to itself over a pair of non-overlapping time intervals of equal length."
   ]
  },
  {
   "cell_type": "code",
   "execution_count": null,
   "metadata": {},
   "outputs": [],
   "source": [
    "# Testing BDD methods\n",
    "variables = ['Velocity','Curvature', 'Dist to Point']\n",
    "norm_mode = ['universal', 'universal', 'bounded']\n",
    "start_time, end_time = 0, 60\n",
    "distances = locomotion.trajectory.compute_all_bdd(animals,\n",
    "                                                variables,\n",
    "                                                start_time,\n",
    "                                                end_time,\n",
    "                                                norm_mode)\n"
   ]
  },
  {
   "cell_type": "code",
   "execution_count": null,
   "metadata": {},
   "outputs": [],
   "source": [
    "output_directory, outfile_name = PATH_TO_DIRECTORY + \"/results\", \"check_BDD\"\n",
    "try: # Safety check to ensure that data folder exists, and makes it otherwise.\n",
    "    os.mkdir(output_directory)\n",
    "except FileExistsError:\n",
    "    pass\n",
    "sort_table, square_table = False, False\n",
    "color_min, color_max = 0.1, 0.2\n",
    "locomotion.write.post_process(animals,\n",
    "                             distances,\n",
    "                             output_directory,\n",
    "                             outfile_name,\n",
    "                             sort_table,\n",
    "                             square_table,\n",
    "                             color_min,\n",
    "                             color_max)"
   ]
  },
  {
   "cell_type": "code",
   "execution_count": null,
   "metadata": {},
   "outputs": [],
   "source": [
    "print(distances)\n",
    "# Print result should be similar to the following:\n",
    "# [['', 0.12754357411745945, 0.12055945264105619, 0.13650692307401976], \n",
    "# ['', '', 0.10431838786760918, 0.11668354968697327], \n",
    "# ['', '', '', 0.06529442683095017], \n",
    "# ['', '', '', '']]"
   ]
  },
  {
   "cell_type": "code",
   "execution_count": null,
   "metadata": {},
   "outputs": [],
   "source": [
    "# Testing IIBDD Methods\n",
    "variables = ['Velocity','Curvature']\n",
    "norm_mode = 'spec'\n",
    "num_samples = 5\n",
    "iibdds = locomotion.trajectory.compute_all_iibdd(animals, variables, norm_mode, num_samples)"
   ]
  },
  {
   "cell_type": "code",
   "execution_count": null,
   "metadata": {},
   "outputs": [],
   "source": [
    "output_directory, outfile_name = PATH_TO_DIRECTORY + \"/results\", \"check_IIBDD\"\n",
    "try: # Safety check to ensure that data folder exists, and makes it otherwise.\n",
    "    os.mkdir(output_directory)\n",
    "except FileExistsError:\n",
    "    pass\n",
    "locomotion.write.write_iibdd_to_csv(animals, iibdds, output_directory, outfile_name)"
   ]
  },
  {
   "cell_type": "markdown",
   "metadata": {},
   "source": [
    "## Heatmap Methods\n",
    "This section will run through the main method provided in `heatmap.py`, namely `heatmap.compute_all_csd()`, which calculates the pairwise Conformal Spatiotemporal Distance (CSD) between all animals in the experiment. "
   ]
  },
  {
   "cell_type": "code",
   "execution_count": null,
   "metadata": {},
   "outputs": [],
   "source": [
    "# Setup animal objects for CSD comparison\n",
    "start_time, end_time = 0, 120\n",
    "for a in animals:\n",
    "    locomotion.heatmap.populate_surface_data(a, \n",
    "                                             start_time=start_time, \n",
    "                                             end_time=end_time)"
   ]
  },
  {
   "cell_type": "code",
   "execution_count": null,
   "metadata": {},
   "outputs": [],
   "source": [
    "distances = locomotion.heatmap.compute_all_csd(animals)"
   ]
  },
  {
   "cell_type": "code",
   "execution_count": null,
   "metadata": {},
   "outputs": [],
   "source": [
    "output_directory, outfile_name = PATH_TO_DIRECTORY + \"/results\", \"check_CSD\"\n",
    "sort_table, square_table = False, False\n",
    "color_min, color_max = 0, 0.02\n",
    "locomotion.write.post_process(animals,\n",
    "                             distances,\n",
    "                             output_directory,\n",
    "                             outfile_name,\n",
    "                             sort_table,\n",
    "                             square_table,\n",
    "                             color_min,\n",
    "                             color_max)"
   ]
  },
  {
   "cell_type": "markdown",
   "metadata": {},
   "source": [
    "# Once you are done, please remember to clear all outputs with 'Cell > All Output > Clear'."
   ]
  }
 ],
 "metadata": {
  "kernelspec": {
   "display_name": "Python 3",
   "language": "python",
   "name": "python3"
  },
  "language_info": {
   "codemirror_mode": {
    "name": "ipython",
    "version": 3
   },
   "file_extension": ".py",
   "mimetype": "text/x-python",
   "name": "python",
   "nbconvert_exporter": "python",
   "pygments_lexer": "ipython3",
   "version": "3.7.4"
  }
 },
 "nbformat": 4,
 "nbformat_minor": 2
}
