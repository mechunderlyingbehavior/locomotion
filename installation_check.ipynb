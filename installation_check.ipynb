{
 "cells": [
  {
   "cell_type": "markdown",
   "metadata": {},
   "source": [
    "## Path Setup\n",
    "First, we make sure that our path is setup. This is to check if we've manually installed our library correctly."
   ]
  },
  {
   "cell_type": "code",
   "execution_count": null,
   "metadata": {},
   "outputs": [],
   "source": [
    "import sys\n",
    "import os\n",
    "PATH_TO_DIRECTORY = os.getcwd()\n",
    "sys.path.append(PATH_TO_DIRECTORY)"
   ]
  },
  {
   "cell_type": "code",
   "execution_count": null,
   "metadata": {},
   "outputs": [],
   "source": [
    "# If this works, then we're good to go!\n",
    "import locomotion"
   ]
  },
  {
   "cell_type": "markdown",
   "metadata": {},
   "source": [
    "## Data Setup"
   ]
  },
  {
   "cell_type": "code",
   "execution_count": null,
   "metadata": {},
   "outputs": [],
   "source": [
    "# No need to touch this\n",
    "species = \"medaka\"\n",
    "exp_type = \"SS\"\n",
    "dim_x = 200\n",
    "dim_y = 100\n",
    "frames_per_sec = 20\n",
    "pixels_per_mm = 1.6\n",
    "start_time = 0\n",
    "end_time = 10\n",
    "baseline_start_time = 0\n",
    "baseline_end_time = 2\n",
    "\n",
    "import json\n",
    "json_items_ss = [{\n",
    "    \"name\": \"SS_01\",\n",
    "    \"data_file_location\": PATH_TO_DIRECTORY + \"/samples/sample_data/SS_01.dat\",\n",
    "    \"animal_attributes\":\n",
    "    {\n",
    "      \"species\": species,\n",
    "      \"exp_type\": exp_type,\n",
    "      \"ID\": \"01\"\n",
    "    },\n",
    "    \"capture_attributes\": \n",
    "    {\n",
    "      \"dim_x\": dim_x,\n",
    "      \"dim_y\": dim_y,\n",
    "      \"pixels_per_mm\": pixels_per_mm,\n",
    "      \"frames_per_sec\": frames_per_sec,\n",
    "      \"start_time\": start_time,\n",
    "      \"end_time\": end_time,\n",
    "      \"baseline_start_time\": baseline_start_time,\n",
    "      \"baseline_end_time\": baseline_end_time\n",
    "    }\n",
    "  },\n",
    "{\n",
    "    \"name\": \"SS_02\",\n",
    "    \"data_file_location\": PATH_TO_DIRECTORY + \"/samples/sample_data/SS_02.dat\",\n",
    "    \"animal_attributes\":\n",
    "    {\n",
    "      \"species\": species,\n",
    "      \"exp_type\": exp_type,\n",
    "      \"ID\": \"02\"\n",
    "    },\n",
    "    \"capture_attributes\": \n",
    "    {\n",
    "      \"dim_x\": dim_x,\n",
    "      \"dim_y\": dim_y,\n",
    "      \"pixels_per_mm\": pixels_per_mm,\n",
    "      \"frames_per_sec\": frames_per_sec,\n",
    "      \"start_time\": start_time,\n",
    "      \"end_time\": end_time,\n",
    "      \"baseline_start_time\": baseline_start_time,\n",
    "      \"baseline_end_time\": baseline_end_time\n",
    "    }\n",
    "  }]\n",
    "json_items_nss = [{\n",
    "    \"name\": \"NSS_01\",\n",
    "    \"data_file_location\": PATH_TO_DIRECTORY + \"/samples/sample_data/NSS_01.dat\",\n",
    "    \"animal_attributes\":\n",
    "    {\n",
    "      \"species\": species,\n",
    "      \"exp_type\": exp_type,\n",
    "      \"ID\": \"01\"\n",
    "    },\n",
    "    \"capture_attributes\": \n",
    "    {\n",
    "      \"dim_x\": dim_x,\n",
    "      \"dim_y\": dim_y,\n",
    "      \"pixels_per_mm\": pixels_per_mm,\n",
    "      \"frames_per_sec\": frames_per_sec,\n",
    "      \"start_time\": start_time,\n",
    "      \"end_time\": end_time,\n",
    "      \"baseline_start_time\": baseline_start_time,\n",
    "      \"baseline_end_time\": baseline_end_time\n",
    "    }\n",
    "  },\n",
    "{\n",
    "    \"name\": \"NSS_02\",\n",
    "    \"data_file_location\": PATH_TO_DIRECTORY + \"/samples/sample_data/NSS_02.dat\",\n",
    "    \"animal_attributes\":\n",
    "    {\n",
    "      \"species\": species,\n",
    "      \"exp_type\": exp_type,\n",
    "      \"ID\": \"02\"\n",
    "    },\n",
    "    \"capture_attributes\": \n",
    "    {\n",
    "      \"dim_x\": dim_x,\n",
    "      \"dim_y\": dim_y,\n",
    "      \"pixels_per_mm\": pixels_per_mm,\n",
    "      \"frames_per_sec\": frames_per_sec,\n",
    "      \"start_time\": start_time,\n",
    "      \"end_time\": end_time,\n",
    "      \"baseline_start_time\": baseline_start_time,\n",
    "      \"baseline_end_time\": baseline_end_time\n",
    "    }\n",
    "  }]\n",
    "\n",
    "outfile_ss = PATH_TO_DIRECTORY + \"/samples/sample_check_SS.json\"\n",
    "outfile_nss = PATH_TO_DIRECTORY + \"/samples/sample_check_NSS.json\"\n",
    "jsonstr_ss = json.dumps(json_items_ss, indent=4)\n",
    "jsonstr_nss = json.dumps(json_items_nss, indent=4)\n",
    "with open(outfile_ss, \"w\") as outfile:\n",
    "    outfile.write(jsonstr_ss)\n",
    "    print(\"SS information wrote to %s\" % outfile_ss)\n",
    "with open(outfile_nss, \"w\") as outfile:\n",
    "    outfile.write(jsonstr_nss)\n",
    "    print(\"NSS information wrote to %s\" % outfile_nss)"
   ]
  },
  {
   "cell_type": "code",
   "execution_count": null,
   "metadata": {},
   "outputs": [],
   "source": [
    "info_files = [outfile_ss, outfile_nss]\n",
    "animals = locomotion.setup_animal_objs( info_files )\n",
    "for a in animals:\n",
    "  locomotion.trajectory.populate_curve_data( a )"
   ]
  },
  {
   "cell_type": "code",
   "execution_count": null,
   "metadata": {},
   "outputs": [],
   "source": [
    "variables = ['Y','Velocity','Curvature']\n",
    "norm_mode = 'spec'\n",
    "number_of_comparisons_per_animal, specified_durations = 100, None\n",
    "start_time, end_time = 0, 1\n",
    "distances = locomotion.trajectory.compute_all_bdd(animals,\n",
    "                                                variables,\n",
    "                                                start_time,\n",
    "                                                end_time,\n",
    "                                                norm_mode)\n"
   ]
  },
  {
   "cell_type": "code",
   "execution_count": null,
   "metadata": {},
   "outputs": [],
   "source": [
    "output_directory, outfile_name = PATH_TO_DIRECTORY + \"/results\", \"results\"\n",
    "try: # Safety check to ensure that data folder exists, and makes it otherwise.\n",
    "    os.mkdir(output_directory)\n",
    "except FileExistsError:\n",
    "    pass\n",
    "sort_table, square_table = False, False\n",
    "color_min, color_max = 0.1, 0.5\n",
    "locomotion.write.post_process(animals,\n",
    "                             distances,\n",
    "                             output_directory,\n",
    "                             outfile_name,\n",
    "                             sort_table,\n",
    "                             square_table,\n",
    "                             color_min,\n",
    "                             color_max)"
   ]
  },
  {
   "cell_type": "code",
   "execution_count": null,
   "metadata": {},
   "outputs": [],
   "source": [
    "print(distances)\n",
    "# Print result should be similar to the following:\n",
    "# [['', 0.13903282969507047, 0.2281075661024994, 0.15806613122362068], \n",
    "# ['', '', 0.238360467850021, 0.2038101149697984], \n",
    "# ['', '', '', 0.21699352755043647], ['', '', '', '']]"
   ]
  },
  {
   "cell_type": "code",
   "execution_count": null,
   "metadata": {},
   "outputs": [],
   "source": [
    "grid_size, start_time, end_time = 10, 0, 2\n",
    "for a in animals:\n",
    "    locomotion.heatmap.populate_surface_data(a, grid_size, start_time, end_time)"
   ]
  },
  {
   "cell_type": "code",
   "execution_count": null,
   "metadata": {},
   "outputs": [],
   "source": [
    "distances = locomotion.heatmap.compute_all_csd(animals)"
   ]
  },
  {
   "cell_type": "code",
   "execution_count": null,
   "metadata": {},
   "outputs": [],
   "source": [
    "output_directory, outfile_name = PATH_TO_DIRECTORY + \"/results\", \"results\"\n",
    "sort_table, square_table = False, False\n",
    "color_min, color_max = 0, 0.02\n",
    "locomotion.write.post_process(animals,\n",
    "                             distances,\n",
    "                             output_directory,\n",
    "                             outfile_name,\n",
    "                             sort_table,\n",
    "                             square_table,\n",
    "                             color_min,\n",
    "                             color_max)"
   ]
  },
  {
   "cell_type": "markdown",
   "metadata": {},
   "source": [
    "# Once you are done, please remember to clear all outputs with 'Cell > All Output > Clear'"
   ]
  }
 ],
 "metadata": {
  "kernelspec": {
   "display_name": "Python 3",
   "language": "python",
   "name": "python3"
  },
  "language_info": {
   "codemirror_mode": {
    "name": "ipython",
    "version": 3
   },
   "file_extension": ".py",
   "mimetype": "text/x-python",
   "name": "python",
   "nbconvert_exporter": "python",
   "pygments_lexer": "ipython3",
   "version": "3.7.4"
  }
 },
 "nbformat": 4,
 "nbformat_minor": 2
}
