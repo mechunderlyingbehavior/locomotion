{
 "cells": [
  {
   "cell_type": "markdown",
   "metadata": {},
   "source": [
    "## Path Setup\n",
    "First, we make sure that our path is setup. This is to check if we've manually installed our library correctly."
   ]
  },
  {
   "cell_type": "code",
   "execution_count": null,
   "metadata": {},
   "outputs": [],
   "source": [
    "import sys\n",
    "import os\n",
    "PATH_TO_DIRECTORY = os.getcwd()\n",
    "sys.path.append(PATH_TO_DIRECTORY)"
   ]
  },
  {
   "cell_type": "code",
   "execution_count": null,
   "metadata": {},
   "outputs": [],
   "source": [
    "# If this works, then we're good to go!\n",
    "import locomotion"
   ]
  },
  {
   "cell_type": "markdown",
   "metadata": {},
   "source": [
    "## Data Setup"
   ]
  },
  {
   "cell_type": "code",
   "execution_count": null,
   "metadata": {},
   "outputs": [],
   "source": [
    "# No need to touch this\n",
    "species = \"medaka\"\n",
    "exp_type = \"SS\"\n",
    "dim_x = 200\n",
    "dim_y = 100\n",
    "frames_per_sec = 20\n",
    "pixels_per_mm = 1.6\n",
    "start_time = 0\n",
    "end_time = 10\n",
    "baseline_start_time = 0\n",
    "baseline_end_time = 2\n",
    "\n",
    "import json\n",
    "jsonItems = [{\n",
    "    \"name\": \"SS_01\",\n",
    "    \"data_file_location\": PATH_TO_DIRECTORY + \"/samples/sample_data/SS_01.dat\",\n",
    "    \"animal_attributes\":\n",
    "    {\n",
    "      \"species\": species,\n",
    "      \"exp_type\": exp_type,\n",
    "      \"ID\": \"01\",\n",
    "      \"control_group\": \"False\"\n",
    "    },\n",
    "    \"capture_attributes\": \n",
    "    {\n",
    "      \"dim_x\": dim_x,\n",
    "      \"dim_y\": dim_y,\n",
    "      \"pixels_per_mm\": pixels_per_mm,\n",
    "      \"frames_per_sec\": frames_per_sec,\n",
    "      \"start_time\": start_time,\n",
    "      \"end_time\": end_time,\n",
    "      \"baseline_start_time\": baseline_start_time,\n",
    "      \"baseline_end_time\": baseline_end_time\n",
    "    }\n",
    "  },\n",
    "{\n",
    "    \"name\": \"SS_02\",\n",
    "    \"data_file_location\": PATH_TO_DIRECTORY + \"/samples/sample_data/SS_02.dat\",\n",
    "    \"animal_attributes\":\n",
    "    {\n",
    "      \"species\": species,\n",
    "      \"exp_type\": exp_type,\n",
    "      \"ID\": \"02\",\n",
    "      \"control_group\": \"False\"\n",
    "    },\n",
    "    \"capture_attributes\": \n",
    "    {\n",
    "      \"dim_x\": dim_x,\n",
    "      \"dim_y\": dim_y,\n",
    "      \"pixels_per_mm\": pixels_per_mm,\n",
    "      \"frames_per_sec\": frames_per_sec,\n",
    "      \"start_time\": start_time,\n",
    "      \"end_time\": end_time,\n",
    "      \"baseline_start_time\": baseline_start_time,\n",
    "      \"baseline_end_time\": baseline_end_time\n",
    "    }\n",
    "  },\n",
    "{\n",
    "    \"name\": \"NSS_01\",\n",
    "    \"data_file_location\": PATH_TO_DIRECTORY + \"/samples/sample_data/NSS_01.dat\",\n",
    "    \"animal_attributes\":\n",
    "    {\n",
    "      \"species\": species,\n",
    "      \"exp_type\": exp_type,\n",
    "      \"ID\": \"01\",\n",
    "      \"control_group\": \"True\"\n",
    "    },\n",
    "    \"capture_attributes\": \n",
    "    {\n",
    "      \"dim_x\": dim_x,\n",
    "      \"dim_y\": dim_y,\n",
    "      \"pixels_per_mm\": pixels_per_mm,\n",
    "      \"frames_per_sec\": frames_per_sec,\n",
    "      \"start_time\": start_time,\n",
    "      \"end_time\": end_time,\n",
    "      \"baseline_start_time\": baseline_start_time,\n",
    "      \"baseline_end_time\": baseline_end_time\n",
    "    }\n",
    "  },\n",
    "{\n",
    "    \"name\": \"NSS_02\",\n",
    "    \"data_file_location\": PATH_TO_DIRECTORY + \"/samples/sample_data/NSS_02.dat\",\n",
    "    \"animal_attributes\":\n",
    "    {\n",
    "      \"species\": species,\n",
    "      \"exp_type\": exp_type,\n",
    "      \"ID\": \"02\",\n",
    "      \"control_group\": \"True\"\n",
    "    },\n",
    "    \"capture_attributes\": \n",
    "    {\n",
    "      \"dim_x\": dim_x,\n",
    "      \"dim_y\": dim_y,\n",
    "      \"pixels_per_mm\": pixels_per_mm,\n",
    "      \"frames_per_sec\": frames_per_sec,\n",
    "      \"start_time\": start_time,\n",
    "      \"end_time\": end_time,\n",
    "      \"baseline_start_time\": baseline_start_time,\n",
    "      \"baseline_end_time\": baseline_end_time\n",
    "    }\n",
    "  }]\n",
    "\n",
    "outfilename = PATH_TO_DIRECTORY + \"/samples/sample_check.json\"\n",
    "jsonstr = json.dumps(jsonItems, indent=4)\n",
    "with open(outfilename, \"w\") as outfile:\n",
    "    outfile.write(jsonstr)\n",
    "    print(\"Wrote the information entered into %s\" % outfilename)"
   ]
  },
  {
   "cell_type": "code",
   "execution_count": null,
   "metadata": {},
   "outputs": [],
   "source": [
    "info_file = outfilename\n",
    "animals = locomotion.get_animal_objs( info_file )\n",
    "for a in animals:\n",
    "  locomotion.trajectory.getCurveData( a )"
   ]
  },
  {
   "cell_type": "code",
   "execution_count": null,
   "metadata": {},
   "outputs": [],
   "source": [
    "variables = ['Y','Velocity','Curvature']\n",
    "norm_mode = 'spec'\n",
    "number_of_comparisons_per_animal, specified_durations = 100, None\n",
    "output_directory, outfile_name = PATH_TO_DIRECTORY, \"results\"\n",
    "start_time, end_time = 0, 1\n",
    "distances = locomotion.trajectory.computeAllBDD(animals,\n",
    "                                                variables,\n",
    "                                                start_time,\n",
    "                                                end_time,\n",
    "                                                norm_mode)\n"
   ]
  },
  {
   "cell_type": "code",
   "execution_count": null,
   "metadata": {},
   "outputs": [],
   "source": [
    "output_directory, outfile_name = PATH_TO_DIRECTORY + \"/results\", \"results\"\n",
    "sort_table, square_table = False, False\n",
    "color_min, color_max = 0.1, 0.5\n",
    "locomotion.write.postProcess(animals,\n",
    "                             distances,\n",
    "                             output_directory,\n",
    "                             outfile_name,\n",
    "                             sort_table,\n",
    "                             square_table,\n",
    "                             color_min,\n",
    "                             color_max)"
   ]
  },
  {
   "cell_type": "code",
   "execution_count": null,
   "metadata": {},
   "outputs": [],
   "source": [
    "print(distances)\n",
    "# Print result should be similar to the following:\n",
    "# [['', 0.20282969626295833, 0.2860520059340922, 0.17829970331490627], \n",
    "# ['', '', 0.24460085826104375, 0.23165243606422234], \n",
    "# ['', '', '', 0.27422508097123505], ['', '', '', '']]"
   ]
  },
  {
   "cell_type": "code",
   "execution_count": null,
   "metadata": {},
   "outputs": [],
   "source": [
    "grid_size, start_time, end_time = 10, 0, 2\n",
    "for a in animals:\n",
    "    locomotion.heatmap.getSurfaceData(a, grid_size, start_time, end_time)"
   ]
  },
  {
   "cell_type": "code",
   "execution_count": null,
   "metadata": {},
   "outputs": [],
   "source": [
    "distances = locomotion.heatmap.computeAllCSD(animals)"
   ]
  },
  {
   "cell_type": "code",
   "execution_count": null,
   "metadata": {},
   "outputs": [],
   "source": [
    "output_directory, outfile_name = PATH_TO_DIRECTORY + \"/results\", \"results\"\n",
    "sort_table, square_table = False, False\n",
    "color_min, color_max = 0, 0.02\n",
    "locomotion.write.postProcess(animals,\n",
    "                             distances,\n",
    "                             output_directory,\n",
    "                             outfile_name,\n",
    "                             sort_table,\n",
    "                             square_table,\n",
    "                             color_min,\n",
    "                             color_max)"
   ]
  },
  {
   "cell_type": "markdown",
   "metadata": {},
   "source": [
    "# Once you are done, please remember to clear all outputs with 'Cell > All Output > Clear'"
   ]
  }
 ],
 "metadata": {
  "kernelspec": {
   "display_name": "Python 3",
   "language": "python",
   "name": "python3"
  },
  "language_info": {
   "codemirror_mode": {
    "name": "ipython",
    "version": 3
   },
   "file_extension": ".py",
   "mimetype": "text/x-python",
   "name": "python",
   "nbconvert_exporter": "python",
   "pygments_lexer": "ipython3",
   "version": "3.7.4-final"
  }
 },
 "nbformat": 4,
 "nbformat_minor": 2
}
