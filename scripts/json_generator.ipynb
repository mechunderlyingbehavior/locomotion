{
 "cells": [
  {
   "cell_type": "markdown",
   "metadata": {},
   "source": [
    "# JSON Generator\n",
    "This notebook will help you generate the necessary `.json` files to create `animal` objects with the `locomotion` package. It is meant to help include the camera settings that will be uploaded into the `animal` objects as well.\n",
    "**Do note that this notebook is not meant to be run from start to finish.** The instructions prior to each cell will tell you whether or not to run the cell, depending on your use-case. Please make sure that you **make the changes in the cell** before running the cells.\n",
    "\n",
    "Each run of this notebook will output **a single** `.json` **file**, which will include **1 json entry per animal / data file**. \n",
    "\n",
    "## REMINDER: After using the generator, do clear the cell outputs as good practice.\n",
    "You may do so by clicking `Cell > All Outputs > Clear`."
   ]
  },
  {
   "cell_type": "markdown",
   "metadata": {},
   "source": [
    "## 1. Installation and Setup\n",
    "This is a simple setup step. When deciding your data path, do make sure that if you intend to create the `.json` file automatically for all data files in the directory, all files with the specified file extension in the given directory should be relevant to the `.json` file.\n",
    "\n",
    "**Run the following cell after changing the paths.**"
   ]
  },
  {
   "cell_type": "code",
   "execution_count": null,
   "metadata": {},
   "outputs": [],
   "source": [
    "import os\n",
    "import sys\n",
    "import json\n",
    "\n",
    "# Set the following directories to the data source and the output directory, respectively.\n",
    "# This notebook is currently preset to the sample data that we ship with the package.\n",
    "path_to_data = os.path.abspath(os.getcwd() + '/../samples/sample_data/')\n",
    "path_to_output = os.path.abspath(os.getcwd() + '/../samples/')\n",
    "\n",
    "# The following need not be changed.\n",
    "json_items = []"
   ]
  },
  {
   "cell_type": "markdown",
   "metadata": {},
   "source": [
    "## 2. Creating the Jsons\n",
    "Here we begin creating the json files. Do follow the instructions carefully, as the following cells may be ran multiple times, or none at all, depending on how you want to use this notebook.\n",
    "\n",
    "### 2a. Read Multiple Files in a Directory\n",
    "The next few cells will run the method to create a `.json` file automatically for all data files in the directory. If you are looking to add individual files to the `.json` file, please skip to **Section 2b**.\n",
    "\n",
    "**Run the following cell after making changes to the extensions to begin scanning the data directory, and have a preview of the files mentioned.**"
   ]
  },
  {
   "cell_type": "code",
   "execution_count": null,
   "metadata": {},
   "outputs": [],
   "source": [
    "# Set the data extension to the extension type of your data (.csv, .tsv, .dat, etc.)\n",
    "data_ext = '.dat'\n",
    "\n",
    "# No need to change the following code\n",
    "file_names = [f for f in os.listdir(path_to_data) if f.endswith(data_ext) and not f.startswith(\".\")]\n",
    "animal_names = [f.rstrip(data_ext) for f in file_names]\n",
    "file_paths = [os.path.join(path_to_data,f) for f in file_names]\n",
    "\n",
    "print(\"The following files will be read:\")\n",
    "for f in file_paths:\n",
    "    print(f)"
   ]
  },
  {
   "cell_type": "markdown",
   "metadata": {},
   "source": [
    "---\n",
    "If the above output accurately captures the data files you want to read, then continue. If not, do go back and fix as necessary.\n",
    "\n",
    "**If your camera settings for all the files are the same, run the next cell after updating all the camera settings. If not, please skip the next cell.**\n",
    "_Note: The following method will automatically generate animal names using the names of the data file._"
   ]
  },
  {
   "cell_type": "code",
   "execution_count": null,
   "metadata": {},
   "outputs": [],
   "source": [
    "# Set the following camera settings to that of the data.\n",
    "species = \"medaka\"   # species name\n",
    "exp_type = \"SS\"   # experiment type\n",
    "ID = \"01\"   # animal ID\n",
    "input_unit = \"px\"   # units that the raw data is in\n",
    "output_unit = \"mm\"  # units that the data should be converted to\n",
    "input_per_output_unit = 1.6   # conversation rate from input unit to output unit (e.g. pixels per mm)\n",
    "x_lims = (0, 300) # x-limits of frame (in output units)\n",
    "y_lims = (0, 200) # y-limits of frame (in output units)\n",
    "frames_per_sec = 20   # framerate (in frames per second)\n",
    "start_time = 0   # start time of data (in seconds)\n",
    "end_time = 600   # end time of data (in seconds)\n",
    "baseline_start_time = 0   # start time of baseline (in seconds)\n",
    "baseline_end_time = 120    # end time of baseline (in seconds)\n",
    "info_dict = {} # dictionary for any other information attached to the animal\n",
    "\n",
    "# No need to change the following code\n",
    "for i, fn in enumerate(file_paths):\n",
    "    json_entry = {\n",
    "        \"name\": animal_names[i],\n",
    "        \"data_file_location\": fn,\n",
    "        \"animal_attributes\":\n",
    "        {\n",
    "          \"species\": species,\n",
    "          \"exp_type\": exp_type,\n",
    "          \"ID\": ID\n",
    "        },\n",
    "        \"capture_attributes\": \n",
    "        {\n",
    "          \"x_lims\" : x_lims,\n",
    "          \"y_lims\" : y_lims,\n",
    "          \"input_unit\" : input_unit,\n",
    "          \"output_unit\" : output_unit,\n",
    "          \"input_per_output_unit\": input_per_output_unit,\n",
    "          \"frames_per_sec\": frames_per_sec,\n",
    "          \"start_time\": start_time,\n",
    "          \"end_time\": end_time,\n",
    "          \"baseline_start_time\": baseline_start_time,\n",
    "          \"baseline_end_time\": baseline_end_time\n",
    "        },\n",
    "        \"additional_info\": info_dict\n",
    "      }\n",
    "    json_items.append(json_entry)"
   ]
  },
  {
   "cell_type": "markdown",
   "metadata": {},
   "source": [
    "**Otherwise, run the next 2 cells in order for EACH DATA FILE, making sure that you adjust the camera settings as needed.**\n",
    "_If you've ran the above cell, skip the next 2 cells. If you run them, you'll double count your data._"
   ]
  },
  {
   "cell_type": "code",
   "execution_count": null,
   "metadata": {},
   "outputs": [],
   "source": [
    "# Run this cell to know which data file you're working on.\n",
    "try:\n",
    "    file_path = file_paths.pop()\n",
    "    print(\"Current file: \", file_path)\n",
    "except IndexError:\n",
    "    file_path = None\n",
    "    print(\"You've reached the end of the directory. Move on to Step 3.\")"
   ]
  },
  {
   "cell_type": "code",
   "execution_count": null,
   "metadata": {},
   "outputs": [],
   "source": [
    "# Set the following camera settings to that of the data.\n",
    "name = \"SS_01\"   # name of the animal\n",
    "species = \"medaka\"   # species name\n",
    "exp_type = \"SS\"   # experiment type\n",
    "ID = \"01\"   # animal ID\n",
    "input_unit = \"px\"   # units that the raw data is in\n",
    "output_unit = \"mm\"  # units that the data should be converted to\n",
    "input_per_output_unit = 1.6   # conversation rate from input unit to output unit (e.g. pixels per mm)\n",
    "x_lims = (0, 300) # x-limits of frame (in output units)\n",
    "y_lims = (0, 200) # y-limits of frame (in output units)\n",
    "frames_per_sec = 20   # framerate (in frames per second)\n",
    "start_time = 0   # start time of data (in seconds)\n",
    "end_time = 600   # end time of data (in seconds)\n",
    "baseline_start_time = 0   # start time of baseline (in seconds)\n",
    "baseline_end_time = 120    # end time of baseline (in seconds)\n",
    "info_dict = {} # dictionary for any other information attached to the animal\n",
    "\n",
    "# No need to change the following code:\n",
    "if file_path is not None:\n",
    "    json_entry = {\n",
    "        \"name\": name,\n",
    "        \"data_file_location\": file_path,\n",
    "        \"animal_attributes\":\n",
    "        {\n",
    "          \"species\": species,\n",
    "          \"exp_type\": exp_type,\n",
    "          \"ID\": ID\n",
    "        },\n",
    "        \"capture_attributes\": \n",
    "        {\n",
    "          \"x_lims\" : x_lims,\n",
    "          \"y_lims\" : y_lims,\n",
    "          \"input_unit\" : input_unit,\n",
    "          \"output_unit\" : output_unit,\n",
    "          \"input_per_output_unit\": input_per_output_unit,\n",
    "          \"frames_per_sec\": frames_per_sec,\n",
    "          \"start_time\": start_time,\n",
    "          \"end_time\": end_time,\n",
    "          \"baseline_start_time\": baseline_start_time,\n",
    "          \"baseline_end_time\": baseline_end_time\n",
    "        },\n",
    "        \"additional_info\": info_dict\n",
    "      }\n",
    "    json_items.append(json_entry)\n",
    "    print(\"json entry added for %s with data path %s.\" % (name, file_path))"
   ]
  },
  {
   "cell_type": "markdown",
   "metadata": {},
   "source": [
    "### This is the end of Step 2a. Please proceed to Step 3 to check and output your json file."
   ]
  },
  {
   "cell_type": "markdown",
   "metadata": {},
   "source": [
    "### Step 2b. Reading a single file into the .json\n",
    "The next few cells will help you read a single file into the `.json` object. Note that the cells will ask you for the **absolute path** to the file. You may run the next few cells multiple times to add multiple files.\n",
    "\n",
    "**Run the next cell once for EACH DATA FILE that you wish to add after changing the required camera settings and file paths.**"
   ]
  },
  {
   "cell_type": "code",
   "execution_count": null,
   "metadata": {},
   "outputs": [],
   "source": [
    "# Set the following camera settings to that of the data.\n",
    "file_path = os.path.join(path_to_data, 'SS_01.dat')   # ABSOLUTE path to file\n",
    "name = \"SS_01\"   # name of the animal\n",
    "species = \"medaka\"   # species name\n",
    "exp_type = \"SS\"   # experiment type\n",
    "ID = \"01\"   # animal ID\n",
    "input_unit = \"px\"   # units that the raw data is in\n",
    "output_unit = \"mm\"  # units that the data should be converted to\n",
    "input_per_output_unit = 1.6   # conversation rate from input unit to output unit (e.g. pixels per mm)\n",
    "x_lims = (0, 300) # x-limits of frame (in output units)\n",
    "y_lims = (0, 200) # y-limits of frame (in output units)\n",
    "frames_per_sec = 20   # framerate (in frames per second)\n",
    "start_time = 0   # start time of data (in seconds)\n",
    "end_time = 600   # end time of data (in seconds)\n",
    "baseline_start_time = 0   # start time of baseline (in seconds)\n",
    "baseline_end_time = 120    # end time of baseline (in seconds)\n",
    "info_dict = {} # dictionary for any other information attached to the animal\n",
    "\n",
    "# No need to change the following code:\n",
    "if os.path.exists(file_path):\n",
    "    json_entry = {\n",
    "        \"name\": name,\n",
    "        \"data_file_location\": file_path,\n",
    "        \"animal_attributes\":\n",
    "        {\n",
    "          \"species\": species,\n",
    "          \"exp_type\": exp_type,\n",
    "          \"ID\": ID\n",
    "        },\n",
    "        \"capture_attributes\": \n",
    "        {\n",
    "          \"x_lims\" : x_lims,\n",
    "          \"y_lims\" : y_lims,\n",
    "          \"input_unit\" : input_unit,\n",
    "          \"output_unit\" : output_unit,\n",
    "          \"input_per_output_unit\": input_per_output_unit,\n",
    "          \"frames_per_sec\": frames_per_sec,\n",
    "          \"start_time\": start_time,\n",
    "          \"end_time\": end_time,\n",
    "          \"baseline_start_time\": baseline_start_time,\n",
    "          \"baseline_end_time\": baseline_end_time\n",
    "        },\n",
    "        \"additional_info\": info_dict\n",
    "      }\n",
    "    json_items.append(json_entry)\n",
    "    print(\"json entry added for \", name)\n",
    "else:\n",
    "    print('File not found, no json entry added.')"
   ]
  },
  {
   "cell_type": "markdown",
   "metadata": {},
   "source": [
    "### This is the end of Step 2b. Please proceed to Step 3 to check and output your json file."
   ]
  },
  {
   "cell_type": "markdown",
   "metadata": {},
   "source": [
    "## Step 3. Checking the Json items and Output\n",
    "This is the final step of the infosheet generating process. This section will allow you to check the .json file to make sure that the information captured is accurate, and then it will output the json file to your output directory. \n",
    "\n",
    "**Run the next 2 cells to check and output your `.json` file.**"
   ]
  },
  {
   "cell_type": "code",
   "execution_count": null,
   "metadata": {},
   "outputs": [],
   "source": [
    "# This is just to check the .json file that you've created.\n",
    "i = 0\n",
    "for json_item in json_items:\n",
    "    print(\"JSON ITEM %d:\" % i)\n",
    "    print(json.dumps(json_item, sort_keys=True, indent=4))\n",
    "    print(\"\")\n",
    "    i += 1"
   ]
  },
  {
   "cell_type": "code",
   "execution_count": null,
   "metadata": {},
   "outputs": [],
   "source": [
    "# Input the output file name here\n",
    "outfile_name = 'sample_info.json'\n",
    "\n",
    "# No need to change the following code:\n",
    "out_path = os.path.join(path_to_output, outfile_name)\n",
    "json_str = json.dumps(json_items, indent=4)\n",
    "\n",
    "with open(out_path, 'w') as file:\n",
    "    file.write(json_str)\n",
    "    print(\"Wrote the information entered into %s.\" % out_path)"
   ]
  },
  {
   "cell_type": "markdown",
   "metadata": {},
   "source": [
    "# Congratulations! You've created a `.json` file!\n",
    "To create another one, just restart the process.\n",
    "\n",
    "## REMINDER: After using the generator, do clear the cell outputs as good practice.\n",
    "You may do so by clicking `Cell > All Outputs > Clear`."
   ]
  }
 ],
 "metadata": {
  "kernelspec": {
   "display_name": "Python 3",
   "language": "python",
   "name": "python3"
  },
  "language_info": {
   "codemirror_mode": {
    "name": "ipython",
    "version": 3
   },
   "file_extension": ".py",
   "mimetype": "text/x-python",
   "name": "python",
   "nbconvert_exporter": "python",
   "pygments_lexer": "ipython3",
   "version": "3.7.4"
  }
 },
 "nbformat": 4,
 "nbformat_minor": 2
}
